{
 "cells": [
  {
   "cell_type": "markdown",
   "metadata": {},
   "source": [
    "# Waffle Chart with Little People in Python\n"
   ]
  },
  {
   "cell_type": "markdown",
   "metadata": {},
   "source": [
    "### Docs for PyWaffle\n",
    "https://buildmedia.readthedocs.org/media/pdf/pywaffle/latest/pywaffle.pdf\n",
    "### Hex Colour Codes\n",
    "https://www.w3schools.com/colors/colors_picker.asp"
   ]
  },
  {
   "cell_type": "code",
   "execution_count": 1,
   "metadata": {},
   "outputs": [],
   "source": [
    "# Import Libraries \n",
    "\n",
    "from pywaffle import Waffle\n",
    "import matplotlib.pyplot as plt\n",
    "import pandas as pd\n",
    "\n",
    "%matplotlib inline"
   ]
  },
  {
   "cell_type": "code",
   "execution_count": 2,
   "metadata": {},
   "outputs": [],
   "source": [
    "data = {'Attended': 30, 'No Shows': 20, \"Cancelled\":10, \"Unfilled\": 5}"
   ]
  },
  {
   "cell_type": "markdown",
   "metadata": {},
   "source": [
    "Make sure to have as many colours and shapes as groups otherwise it qill throw an error. Else, youcan just have one if you want them all the same."
   ]
  },
  {
   "cell_type": "markdown",
   "metadata": {},
   "source": [
    "## Here you make it"
   ]
  },
  {
   "cell_type": "markdown",
   "metadata": {},
   "source": [
    "Note: In [Font Awesome Icons](https://fontawesome.com/icons?d=gallery&m=free), there are different icon sets in different styles, including Solid, Regular and Brands. It can be\n",
    "specified through parameter icon_style. By default it searches icon from solid style. Not all of them seam to work but some of them do so you should be able to find your snowflakes again. I will send you an update of this notebooks once I figure out how to access all of them!"
   ]
  },
  {
   "cell_type": "code",
   "execution_count": 13,
   "metadata": {},
   "outputs": [
    {
     "data": {
      "image/png": "[encoded data removed]",
      "text/plain": [
       "<Waffle size 432x288 with 1 Axes>"
      ]
     },
     "metadata": {
      "needs_background": "light"
     },
     "output_type": "display_data"
    }
   ],
   "source": [
    "fig = plt.figure(\n",
    "    FigureClass=Waffle, \n",
    "    rows=10, \n",
    "    values=data, \n",
    "    colors=(\"#3399ff\", \"#ff0066\", '#ffcc66', '#d1d1e0'), # Make sure you have as many cols as groups\n",
    "    title={'label': 'Bootcamp Attendance', 'loc': 'left'},\n",
    "    labels=[\"{0} ({1})\".format(k, v) for k, v in data.items()],\n",
    "    legend={'loc': 'lower left', 'bbox_to_anchor': (0, -0.4), 'ncol': len(data), 'framealpha': 0},\n",
    "    icons='child', icon_size=18, \n",
    "    icon_legend=True # False if you dont care about the legend\n",
    ")"
   ]
  },
  {
   "cell_type": "markdown",
   "metadata": {},
   "source": [
    "## Here you save it"
   ]
  },
  {
   "cell_type": "code",
   "execution_count": 4,
   "metadata": {},
   "outputs": [
    {
     "data": {
      "text/plain": [
       "<Figure size 432x288 with 0 Axes>"
      ]
     },
     "metadata": {},
     "output_type": "display_data"
    }
   ],
   "source": [
    "# If you want to save the plot local\n",
    "plt.savefig(\"demograph\")"
   ]
  }
 ],
 "metadata": {
  "kernelspec": {
   "display_name": "Python 3",
   "language": "python",
   "name": "python3"
  },
  "language_info": {
   "codemirror_mode": {
    "name": "ipython",
    "version": 3
   },
   "file_extension": ".py",
   "mimetype": "text/x-python",
   "name": "python",
   "nbconvert_exporter": "python",
   "pygments_lexer": "ipython3",
   "version": "3.7.3"
  }
 },
 "nbformat": 4,
 "nbformat_minor": 2
}
